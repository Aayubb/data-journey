{
 "cells": [
  {
   "cell_type": "code",
   "execution_count": 2,
   "id": "f5f7be97-ef7a-40f8-aa78-020b3f546fd2",
   "metadata": {},
   "outputs": [
    {
     "name": "stdin",
     "output_type": "stream",
     "text": [
      "Hello, enter a number please 10\n"
     ]
    },
    {
     "name": "stdout",
     "output_type": "stream",
     "text": [
      "The number is even.\n"
     ]
    }
   ],
   "source": [
    "number = int(input(\"Hello, enter a number please\"))\n",
    "if (number % 2 == 0):\n",
    "    print(\"The number is even.\")\n",
    "else:\n",
    "    print(\"The number is odd.\")"
   ]
  },
  {
   "cell_type": "code",
   "execution_count": 5,
   "id": "67e714bf-b1dc-4e73-b1e6-ce88ef9fced6",
   "metadata": {},
   "outputs": [
    {
     "name": "stdout",
     "output_type": "stream",
     "text": [
      "Welcome to the rollercoster.\n"
     ]
    },
    {
     "name": "stdin",
     "output_type": "stream",
     "text": [
      "Enter your height. 170\n"
     ]
    },
    {
     "name": "stdout",
     "output_type": "stream",
     "text": [
      "You can ride the rollercoaster.\n"
     ]
    },
    {
     "name": "stdin",
     "output_type": "stream",
     "text": [
      "What is your age? 50\n"
     ]
    },
    {
     "name": "stdout",
     "output_type": "stream",
     "text": [
      "You dont need to pay for the ride\n"
     ]
    },
    {
     "name": "stdin",
     "output_type": "stream",
     "text": [
      "Do you want a photo? y or n. y\n"
     ]
    },
    {
     "name": "stdout",
     "output_type": "stream",
     "text": [
      "Your total bill is $3\n"
     ]
    }
   ],
   "source": [
    "print(\"Welcome to the rollercoster.\")\n",
    "height = int(input(\"Enter your height.\"))\n",
    "bill = 0\n",
    "if height >= 120:\n",
    "    print(\"You can ride the rollercoaster.\")\n",
    "    age = int(input(\"What is your age?\"))\n",
    "    if age<=12:\n",
    "        bill = 5\n",
    "        print(\"You have to pay $5.\")\n",
    "    elif age <=18:\n",
    "        bill = 7\n",
    "        print(\"You have to pay $7.\")\n",
    "   # elif age>=45 and age<=55:\n",
    "    elif 45 <= age <= 55:\n",
    "        bill = 0\n",
    "        print(\"You dont need to pay for the ride\")\n",
    "    else:\n",
    "        bill = 12\n",
    "        print(\"You have to pay $12.\")\n",
    "\n",
    "    photo = input(\"Do you want a photo? y or n.\")\n",
    "    if photo == \"y\":\n",
    "        bill += 3\n",
    "    print(f\"Your total bill is ${bill}\")\n",
    "else:\n",
    "    print(\"You can't ride the rollercoaster sorry.\")"
   ]
  },
  {
   "cell_type": "code",
   "execution_count": 5,
   "id": "b30d1712-33fd-46fa-8c53-2a5d2c3d755b",
   "metadata": {},
   "outputs": [
    {
     "name": "stdout",
     "output_type": "stream",
     "text": [
      "Welcome to the BMI calculator\n"
     ]
    },
    {
     "name": "stdin",
     "output_type": "stream",
     "text": [
      "Enter your weight. 85\n",
      "Enter your height 1.85\n"
     ]
    },
    {
     "name": "stdout",
     "output_type": "stream",
     "text": [
      "undweweight\n"
     ]
    }
   ],
   "source": [
    "#BMI calculator with if else\n",
    "\n",
    "print(\"Welcome to the BMI calculator\")\n",
    "weight = int(input(\"Enter your weight.\"))\n",
    "height = float(input(\"Enter your height\"))\n",
    "bmi = (weight / height**2)\n",
    "\n",
    "if bmi >= 25:\n",
    "    print(\"overweight\")\n",
    "elif bmi <= 18.5:\n",
    "    print(\"normal weight\")\n",
    "else: \n",
    "    print(\"undweweight\")"
   ]
  },
  {
   "cell_type": "code",
   "execution_count": 11,
   "id": "edf9c5d3-1d3a-4d47-b900-e80622d75cb8",
   "metadata": {},
   "outputs": [
    {
     "name": "stdout",
     "output_type": "stream",
     "text": [
      "Welcome to the pizza delievery program.\n"
     ]
    },
    {
     "name": "stdin",
     "output_type": "stream",
     "text": [
      "What size pizza do you want? S, M or L S\n",
      "Do you want extra pepperoni in your pizza? Y or N Y\n",
      "Do you want extra cheese in your pizza? Y or N N\n"
     ]
    },
    {
     "name": "stdout",
     "output_type": "stream",
     "text": [
      "Your total bill is 17. Thank you for choosing us\n"
     ]
    }
   ],
   "source": [
    "# pizza delievery program\n",
    "\n",
    "print(\"Welcome to the pizza delievery program.\")\n",
    "size = input(\"What size pizza do you want? S, M or L\")\n",
    "pepperoni = input(\"Do you want extra pepperoni in your pizza? Y or N\")\n",
    "extra_cheese= input(\"Do you want extra cheese in your pizza? Y or N\")\n",
    "bill = 0\n",
    "\n",
    "if size == \"S\":\n",
    "    bill = 15\n",
    "    if pepperoni ==\"Y\":\n",
    "        bill+=2\n",
    "    elif extra_cheese == \"Y\":\n",
    "        bill += 1\n",
    "if size == \"M\":\n",
    "    bill = 20\n",
    "    if peperoni ==\"Y\":\n",
    "        bill += 2\n",
    "    elif extra_cheese == \"Y\":\n",
    "        bill += 1\n",
    "if size == \"L\":\n",
    "    bill = 25\n",
    "    if pepperoni == \"Y\":\n",
    "        bill+=2\n",
    "    elif extra_cheese == \"Y\":\n",
    "        bill += 1\n",
    "print(f\"Your total bill is {bill}. Thank you for choosing us\")\n"
   ]
  },
  {
   "cell_type": "code",
   "execution_count": null,
   "id": "21b0064e-ff8d-4b90-bb58-a65f914f347b",
   "metadata": {},
   "outputs": [],
   "source": []
  }
 ],
 "metadata": {
  "kernelspec": {
   "display_name": "Python 3 (ipykernel)",
   "language": "python",
   "name": "python3"
  },
  "language_info": {
   "codemirror_mode": {
    "name": "ipython",
    "version": 3
   },
   "file_extension": ".py",
   "mimetype": "text/x-python",
   "name": "python",
   "nbconvert_exporter": "python",
   "pygments_lexer": "ipython3",
   "version": "3.13.1"
  }
 },
 "nbformat": 4,
 "nbformat_minor": 5
}
