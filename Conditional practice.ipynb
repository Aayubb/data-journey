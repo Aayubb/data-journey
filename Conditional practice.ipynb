{
 "cells": [
  {
   "cell_type": "code",
   "execution_count": 2,
   "id": "f5f7be97-ef7a-40f8-aa78-020b3f546fd2",
   "metadata": {},
   "outputs": [
    {
     "name": "stdin",
     "output_type": "stream",
     "text": [
      "Hello, enter a number please 10\n"
     ]
    },
    {
     "name": "stdout",
     "output_type": "stream",
     "text": [
      "The number is even.\n"
     ]
    }
   ],
   "source": [
    "number = int(input(\"Hello, enter a number please\"))\n",
    "if (number % 2 == 0):\n",
    "    print(\"The number is even.\")\n",
    "else:\n",
    "    print(\"The number is odd.\")"
   ]
  },
  {
   "cell_type": "code",
   "execution_count": 4,
   "id": "67e714bf-b1dc-4e73-b1e6-ce88ef9fced6",
   "metadata": {},
   "outputs": [
    {
     "name": "stdout",
     "output_type": "stream",
     "text": [
      "Welcome to the rollercoster.\n"
     ]
    },
    {
     "name": "stdin",
     "output_type": "stream",
     "text": [
      "Enter your height. 120\n"
     ]
    },
    {
     "name": "stdout",
     "output_type": "stream",
     "text": [
      "You can ride the rollercoaster.\n"
     ]
    },
    {
     "name": "stdin",
     "output_type": "stream",
     "text": [
      "What is your age? 18\n"
     ]
    },
    {
     "name": "stdout",
     "output_type": "stream",
     "text": [
      "You have to pay $7.\n"
     ]
    }
   ],
   "source": [
    "print(\"Welcome to the rollercoster.\")\n",
    "height = int(input(\"Enter your height.\"))\n",
    "if height >= 120:\n",
    "    print(\"You can ride the rollercoaster.\")\n",
    "    age = int(input(\"What is your age?\"))\n",
    "    if age<=12:\n",
    "        print(\"You have to pay $5.\")\n",
    "    elif age <=18:\n",
    "        print(\"You have to pay $7.\")\n",
    "    else:\n",
    "        print(\"You have to pay $12.\")\n",
    "else:\n",
    "    print(\"You can't ride the rollercoaster sorry.\")"
   ]
  },
  {
   "cell_type": "code",
   "execution_count": 5,
   "id": "b30d1712-33fd-46fa-8c53-2a5d2c3d755b",
   "metadata": {},
   "outputs": [
    {
     "name": "stdout",
     "output_type": "stream",
     "text": [
      "Welcome to the BMI calculator\n"
     ]
    },
    {
     "name": "stdin",
     "output_type": "stream",
     "text": [
      "Enter your weight. 85\n",
      "Enter your height 1.85\n"
     ]
    },
    {
     "name": "stdout",
     "output_type": "stream",
     "text": [
      "undweweight\n"
     ]
    }
   ],
   "source": [
    "#BMI calculator with if else\n",
    "\n",
    "print(\"Welcome to the BMI calculator\")\n",
    "weight = int(input(\"Enter your weight.\"))\n",
    "height = float(input(\"Enter your height\"))\n",
    "bmi = (weight / height**2)\n",
    "\n",
    "if bmi >= 25:\n",
    "    print(\"overweight\")\n",
    "elif bmi <= 18.5:\n",
    "    print(\"normal weight\")\n",
    "else: \n",
    "    print(\"undweweight\")"
   ]
  },
  {
   "cell_type": "code",
   "execution_count": null,
   "id": "edf9c5d3-1d3a-4d47-b900-e80622d75cb8",
   "metadata": {},
   "outputs": [],
   "source": []
  }
 ],
 "metadata": {
  "kernelspec": {
   "display_name": "Python 3 (ipykernel)",
   "language": "python",
   "name": "python3"
  },
  "language_info": {
   "codemirror_mode": {
    "name": "ipython",
    "version": 3
   },
   "file_extension": ".py",
   "mimetype": "text/x-python",
   "name": "python",
   "nbconvert_exporter": "python",
   "pygments_lexer": "ipython3",
   "version": "3.13.1"
  }
 },
 "nbformat": 4,
 "nbformat_minor": 5
}
