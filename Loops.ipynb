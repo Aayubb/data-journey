{
 "cells": [
  {
   "cell_type": "code",
   "execution_count": 8,
   "id": "b7e2ea05-c9f4-4d83-96d4-0c837befeaff",
   "metadata": {},
   "outputs": [
    {
     "name": "stdout",
     "output_type": "stream",
     "text": [
      "340\n"
     ]
    }
   ],
   "source": [
    "student_score = [250, 150,46, 80, 100, 340, 53, 80,56]\n",
    "\n",
    "#print(max(student_score))\n",
    "\n",
    "max_score = 0\n",
    "for score in student_score:\n",
    "    if score > max_score:\n",
    "        max_score = score\n",
    "print(max_score)\n"
   ]
  },
  {
   "cell_type": "code",
   "execution_count": 14,
   "id": "f1153d13-ff03-4aa7-b52c-b56bf902b8bf",
   "metadata": {},
   "outputs": [
    {
     "name": "stdout",
     "output_type": "stream",
     "text": [
      "5050\n"
     ]
    }
   ],
   "source": [
    "total = 0\n",
    "for i in range(1, 101):\n",
    "    total += i\n",
    "print(total)"
   ]
  },
  {
   "cell_type": "code",
   "execution_count": null,
   "id": "195e060c-17a0-463b-b9ea-8d8c5864a897",
   "metadata": {},
   "outputs": [],
   "source": [
    "#fizzbuzz game\n",
    "\n",
    "for number in range(0, 101):\n",
    "    if number%3 == 0 and number % 5 == 0:\n",
    "        print(\"FizzBuzz\")\n",
    "    elif n"
   ]
  }
 ],
 "metadata": {
  "kernelspec": {
   "display_name": "Python 3 (ipykernel)",
   "language": "python",
   "name": "python3"
  },
  "language_info": {
   "codemirror_mode": {
    "name": "ipython",
    "version": 3
   },
   "file_extension": ".py",
   "mimetype": "text/x-python",
   "name": "python",
   "nbconvert_exporter": "python",
   "pygments_lexer": "ipython3",
   "version": "3.13.1"
  }
 },
 "nbformat": 4,
 "nbformat_minor": 5
}
