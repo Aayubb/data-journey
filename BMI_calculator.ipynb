{
 "cells": [
  {
   "cell_type": "code",
   "execution_count": 5,
   "id": "71cafe4e-77f3-4685-a0d6-879d07c0a01d",
   "metadata": {},
   "outputs": [
    {
     "name": "stdin",
     "output_type": "stream",
     "text": [
      "Please enter your weight:  85\n",
      "Please enter your height(in inches):  5.9\n"
     ]
    },
    {
     "name": "stdout",
     "output_type": "stream",
     "text": [
      "Your BMI is 2.441827061189313\n"
     ]
    }
   ],
   "source": [
    "weight = int(input(\"Please enter your weight: \"))\n",
    "height = float(input(\"Please enter your height(in inches): \"))\n",
    "BMI = weight/ height**2\n",
    "print(f\"Your BMI is {BMI}\")\n",
    "#if(BMI < 18.5):\n",
    "#    print(\"You are underweight\")\n",
    "#elif(BMI > 25):\n",
    "#    print(\"You fat bastard\")\n",
    "#else:\n",
    "#print(\"You are average\")"
   ]
  },
  {
   "cell_type": "code",
   "execution_count": 8,
   "id": "b3248e65-85a2-43db-bb88-d7b9b6e28974",
   "metadata": {},
   "outputs": [
    {
     "name": "stdout",
     "output_type": "stream",
     "text": [
      "2\n"
     ]
    }
   ],
   "source": [
    "print(6(1 * 2))"
   ]
  },
  {
   "cell_type": "code",
   "execution_count": 10,
   "id": "c97ac62f-71f5-4300-9a5d-dc791b6ff67d",
   "metadata": {},
   "outputs": [
    {
     "name": "stdout",
     "output_type": "stream",
     "text": [
      "5.0\n"
     ]
    }
   ],
   "source": [
    "print( )"
   ]
  },
  {
   "cell_type": "code",
   "execution_count": null,
   "id": "26df549b-c5d1-46de-9db4-b3c0e1d6e18e",
   "metadata": {},
   "outputs": [],
   "source": []
  }
 ],
 "metadata": {
  "kernelspec": {
   "display_name": "Python 3 (ipykernel)",
   "language": "python",
   "name": "python3"
  },
  "language_info": {
   "codemirror_mode": {
    "name": "ipython",
    "version": 3
   },
   "file_extension": ".py",
   "mimetype": "text/x-python",
   "name": "python",
   "nbconvert_exporter": "python",
   "pygments_lexer": "ipython3",
   "version": "3.13.1"
  }
 },
 "nbformat": 4,
 "nbformat_minor": 5
}
