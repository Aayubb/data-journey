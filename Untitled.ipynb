{
 "cells": [
  {
   "cell_type": "code",
   "execution_count": null,
   "id": "c63b52cd-64ab-4a29-84d2-6bd76e2d54ea",
   "metadata": {},
   "outputs": [
    {
     "name": "stdin",
     "output_type": "stream",
     "text": [
      "Do you want numbers in your username? y / n y\n"
     ]
    }
   ],
   "source": [
    "#Ramdom username generator\n",
    "import random\n",
    "# List of adjectives\n",
    "adjectives = [\n",
    "    \"Brave\", \"Silly\", \"Clever\", \"Mighty\", \"Happy\", \n",
    "    \"Quick\", \"Lazy\", \"Bold\", \"Smart\", \"Fierce\", \n",
    "    \"Sneaky\", \"Jolly\", \"Calm\", \"Shy\", \"Proud\", \n",
    "    \"Witty\", \"Lucky\", \"Kind\", \"Energetic\", \"Quiet\"\n",
    "]\n",
    "\n",
    "# List of nouns\n",
    "nouns = [\n",
    "    \"Panda\", \"Tiger\", \"Lion\", \"Fox\", \"Dolphin\", \n",
    "    \"Owl\", \"Eagle\", \"Wolf\", \"Bear\", \"Rabbit\", \n",
    "    \"Dragon\", \"Phoenix\", \"Hawk\", \"Snake\", \"Leopard\", \n",
    "    \"Turtle\", \"Unicorn\", \"Falcon\", \"Giraffe\", \"Penguin\"\n",
    "]\n",
    "\n",
    "numbers = ['0', '1', '2', '3', '4', '5', '6', '7', '8', '9']\n",
    "\n",
    "\n",
    "user_name = \"\"\n",
    "user_numbers = input(\"Do you want numbers in your username? y / n\")\n",
    "\n",
    "\n",
    "\n",
    "for adj in adjectives:\n",
    "    user_name += random.choice(adjectives)\n",
    "\n",
    "for nou in nouns:\n",
    "    user_name += random.choice(nouns)\n",
    "\n",
    "if user_numbers == \"y\":\n",
    "    digits = int(input(\"How many digits do you want to add?\"))\n",
    "    user_name += random.choice(digits)\n",
    "\n",
    "print(user_name)\n"
   ]
  },
  {
   "cell_type": "code",
   "execution_count": null,
   "id": "60debecb-8780-4c9c-9374-d2d2822f290a",
   "metadata": {},
   "outputs": [],
   "source": []
  }
 ],
 "metadata": {
  "kernelspec": {
   "display_name": "Python 3 (ipykernel)",
   "language": "python",
   "name": "python3"
  },
  "language_info": {
   "codemirror_mode": {
    "name": "ipython",
    "version": 3
   },
   "file_extension": ".py",
   "mimetype": "text/x-python",
   "name": "python",
   "nbconvert_exporter": "python",
   "pygments_lexer": "ipython3",
   "version": "3.13.1"
  }
 },
 "nbformat": 4,
 "nbformat_minor": 5
}
