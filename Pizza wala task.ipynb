{
 "cells": [
  {
   "cell_type": "code",
   "execution_count": 2,
   "id": "622fbeee-7141-4e54-8bd2-464d0791af68",
   "metadata": {},
   "outputs": [
    {
     "name": "stdout",
     "output_type": "stream",
     "text": [
      "Welcome to our pizza shop. Choose the following.\n"
     ]
    },
    {
     "name": "stdin",
     "output_type": "stream",
     "text": [
      "What size pizza do you want?, S,M or L S\n",
      "Do you want pepperoni in your pizza? Y or N Y\n",
      "Do you want extra cheese in your pizza? Y or N Y\n"
     ]
    },
    {
     "name": "stdout",
     "output_type": "stream",
     "text": [
      "Your final amount is $18, thank you for choosinf us.\n"
     ]
    }
   ],
   "source": [
    "print(\"Welcome to our pizza shop. Choose the following.\")\n",
    "size = input(\"What size pizza do you want?, S,M or L\")\n",
    "pepperoni = input(\"Do you want pepperoni in your pizza? Y or N\")\n",
    "extra_cheese = input(\"Do you want extra cheese in your pizza? Y or N\")\n",
    "bill = 0\n",
    "#size\n",
    "if size == \"S\":\n",
    "    bill +=15\n",
    "elif size == \"M\":\n",
    "    bill += 20\n",
    "elif size == \"L\":\n",
    "    bill += 25\n",
    "else:\n",
    "    print(\"There are only small (S), medium (M) and large(L) size\")\n",
    "\n",
    "#pepperoni\n",
    "if pepperoni == \"Y\":\n",
    "    if size == \"S\":\n",
    "        bill += 2\n",
    "    else:\n",
    "        bill += 3\n",
    "\n",
    "#extra cheese\n",
    "if extra_cheese == \"Y\":\n",
    "    bill += 1\n",
    "\n",
    "print(f\"Your final amount is ${bill}, thank you for choosing us.\")"
   ]
  },
  {
   "cell_type": "code",
   "execution_count": null,
   "id": "013148db-d7d8-422b-bfb8-583010a8d914",
   "metadata": {},
   "outputs": [],
   "source": []
  }
 ],
 "metadata": {
  "kernelspec": {
   "display_name": "Python 3 (ipykernel)",
   "language": "python",
   "name": "python3"
  },
  "language_info": {
   "codemirror_mode": {
    "name": "ipython",
    "version": 3
   },
   "file_extension": ".py",
   "mimetype": "text/x-python",
   "name": "python",
   "nbconvert_exporter": "python",
   "pygments_lexer": "ipython3",
   "version": "3.13.1"
  }
 },
 "nbformat": 4,
 "nbformat_minor": 5
}
