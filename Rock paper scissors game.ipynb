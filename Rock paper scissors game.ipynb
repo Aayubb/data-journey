{
 "cells": [
  {
   "cell_type": "code",
   "execution_count": 8,
   "id": "2c060ba5-c13f-4fa6-b804-7efcef5a268a",
   "metadata": {},
   "outputs": [
    {
     "name": "stderr",
     "output_type": "stream",
     "text": [
      "<>:3: SyntaxWarning: invalid escape sequence '\\_'\n",
      "<>:22: SyntaxWarning: invalid escape sequence '\\ '\n",
      "<>:3: SyntaxWarning: invalid escape sequence '\\_'\n",
      "<>:22: SyntaxWarning: invalid escape sequence '\\ '\n",
      "C:\\Users\\Lenivo\\AppData\\Local\\Temp\\ipykernel_10612\\320067809.py:3: SyntaxWarning: invalid escape sequence '\\_'\n",
      "  rock = '''\n",
      "C:\\Users\\Lenivo\\AppData\\Local\\Temp\\ipykernel_10612\\320067809.py:22: SyntaxWarning: invalid escape sequence '\\ '\n",
      "  scissors = '''\n"
     ]
    },
    {
     "name": "stdout",
     "output_type": "stream",
     "text": [
      "This is a Rock, Paper and Scissors game!\n",
      "Enter 0 for rock, 1 for paper and 2 for scissors.\n"
     ]
    },
    {
     "name": "stdin",
     "output_type": "stream",
     "text": [
      "None 2\n"
     ]
    },
    {
     "name": "stdout",
     "output_type": "stream",
     "text": [
      "\n",
      "          .-.  _\n",
      "    | | / )\n",
      "    | |/ /\n",
      "   _|__ /_\n",
      "  / __)-' )\n",
      "  \\  `(.-')\n",
      "   > ._>-'\n",
      "  / \\/\n",
      "\n",
      "Computer choose:\n",
      "\n",
      "                ___..__\n",
      "  __..--\"\"\" ._ __.'\n",
      "              \"-..__\n",
      "            '\"--..__\";\n",
      " ___        '--...__\"\";\n",
      "    `-..__ '\"---..._;\"\n",
      "          \"\"\"\"----'  \n",
      "\n",
      "You win!\n"
     ]
    }
   ],
   "source": [
    "import random\n",
    "\n",
    "rock = '''\n",
    "           ,--.--.\n",
    "------\" _, \\___)\n",
    "        / _/____)\n",
    "        \\//(____)\n",
    "------\\     (__)\n",
    "       `-----\"\n",
    "'''\n",
    "\n",
    "paper='''\n",
    "                ___..__\n",
    "  __..--\"\"\" ._ __.'\n",
    "              \"-..__\n",
    "            '\"--..__\";\n",
    " ___        '--...__\"\";\n",
    "    `-..__ '\"---..._;\"\n",
    "          \"\"\"\"----'  \n",
    "'''\n",
    "\n",
    "scissors = '''\n",
    "          .-.  _\n",
    "    | | / )\n",
    "    | |/ /\n",
    "   _|__ /_\n",
    "  / __)-' )\n",
    "  \\  `(.-')\n",
    "   > ._>-'\n",
    "  / \\/\n",
    "'''\n",
    "\n",
    "move = [rock, paper, scissors]\n",
    "print(\"This is a Rock, Paper and Scissors game!\")\n",
    "user_choice = int(input(print(\"Enter 0 for rock, 1 for paper and 2 for scissors.\")))\n",
    "if user_choice >=0 and user_choice <=2:\n",
    "    print(move[user_choice])\n",
    "    \n",
    "computer_choice = random.randint(0, 2)\n",
    "print(\"Computer choose:\")\n",
    "print(move[computer_choice])\n",
    "if user_choice >=3 or user_choice <0:\n",
    "    print(\"You entered an invalid number, You lose!\")\n",
    "elif computer_choice == 0 and user_choice == 2:\n",
    "    print(\"You win!\")\n",
    "elif user_choice == 0 and computer_choice == 2:\n",
    "    print(\"You lose!\")\n",
    "elif computer_choice == user_choice:\n",
    "    print(\"It's a draw!\")\n",
    "elif computer_choice > user_choice:\n",
    "    print(\"You Lose!\")\n",
    "elif user_choice > computer_choice:\n",
    "    print(\"You win!\")\n"
   ]
  },
  {
   "cell_type": "code",
   "execution_count": null,
   "id": "a48a33c8-2437-4d05-81f1-b1f42e5026ea",
   "metadata": {},
   "outputs": [],
   "source": []
  }
 ],
 "metadata": {
  "kernelspec": {
   "display_name": "Python 3 (ipykernel)",
   "language": "python",
   "name": "python3"
  },
  "language_info": {
   "codemirror_mode": {
    "name": "ipython",
    "version": 3
   },
   "file_extension": ".py",
   "mimetype": "text/x-python",
   "name": "python",
   "nbconvert_exporter": "python",
   "pygments_lexer": "ipython3",
   "version": "3.13.1"
  }
 },
 "nbformat": 4,
 "nbformat_minor": 5
}
