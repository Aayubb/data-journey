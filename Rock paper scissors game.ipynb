{
 "cells": [
  {
   "cell_type": "code",
   "execution_count": 8,
   "id": "2c060ba5-c13f-4fa6-b804-7efcef5a268a",
   "metadata": {},
   "outputs": [
    {
     "name": "stderr",
     "output_type": "stream",
     "text": [
      "<>:3: SyntaxWarning: invalid escape sequence '\\_'\n",
      "<>:22: SyntaxWarning: invalid escape sequence '\\ '\n",
      "<>:3: SyntaxWarning: invalid escape sequence '\\_'\n",
      "<>:22: SyntaxWarning: invalid escape sequence '\\ '\n",
      "C:\\Users\\Lenivo\\AppData\\Local\\Temp\\ipykernel_10612\\320067809.py:3: SyntaxWarning: invalid escape sequence '\\_'\n",
      "  rock = '''\n",
      "C:\\Users\\Lenivo\\AppData\\Local\\Temp\\ipykernel_10612\\320067809.py:22: SyntaxWarning: invalid escape sequence '\\ '\n",
      "  scissors = '''\n"
     ]
    },
    {
     "name": "stdout",
     "output_type": "stream",
     "text": [
      "This is a Rock, Paper and Scissors game!\n",
      "Enter 0 for rock, 1 for paper and 2 for scissors.\n"
     ]
    },
    {
     "name": "stdin",
     "output_type": "stream",
     "text": [
      "None 2\n"
     ]
    },
    {
     "name": "stdout",
     "output_type": "stream",
     "text": [
      "\n",
      "          .-.  _\n",
      "    | | / )\n",
      "    | |/ /\n",
      "   _|__ /_\n",
      "  / __)-' )\n",
      "  \\  `(.-')\n",
      "   > ._>-'\n",
      "  / \\/\n",
      "\n",
      "Computer choose:\n",
      "\n",
      "                ___..__\n",
      "  __..--\"\"\" ._ __.'\n",
      "              \"-..__\n",
      "            '\"--..__\";\n",
      " ___        '--...__\"\";\n",
      "    `-..__ '\"---..._;\"\n",
      "          \"\"\"\"----'  \n",
      "\n",
      "You win!\n"
     ]
    }
   ],
   "source": [
    "import random\n",
    "\n",
    "rock = '''\n",
    "           ,--.--.\n",
    "------\" _, \\___)\n",
    "        / _/____)\n",
    "        \\//(____)\n",
    "------\\     (__)\n",
    "       `-----\"\n",
    "'''\n",
    "\n",
    "paper='''\n",
    "                ___..__\n",
    "  __..--\"\"\" ._ __.'\n",
    "              \"-..__\n",
    "            '\"--..__\";\n",
    " ___        '--...__\"\";\n",
    "    `-..__ '\"---..._;\"\n",
    "          \"\"\"\"----'  \n",
    "'''\n",
    "\n",
    "scissors = '''\n",
    "          .-.  _\n",
    "    | | / )\n",
    "    | |/ /\n",
    "   _|__ /_\n",
    "  / __)-' )\n",
    "  \\  `(.-')\n",
    "   > ._>-'\n",
    "  / \\/\n",
    "'''\n",
    "\n",
    "move = [rock, paper, scissors]\n",
    "print(\"This is a Rock, Paper and Scissors game!\")\n",
    "user_choice = int(input(print(\"Enter 0 for rock, 1 for paper and 2 for scissors.\")))\n",
    "if user_choice >=0 and user_choice <=2:\n",
    "    print(move[user_choice])\n",
    "    \n",
    "computer_choice = random.randint(0, 2)\n",
    "print(\"Computer choose:\")\n",
    "print(move[computer_choice])\n",
    "if user_choice >=3 or user_choice <0:\n",
    "    print(\"You entered an invalid number, You lose!\")\n",
    "elif computer_choice == 0 and user_choice == 2:\n",
    "    print(\"You win!\")\n",
    "elif user_choice == 0 and computer_choice == 2:\n",
    "    print(\"You lose!\")\n",
    "elif computer_choice == user_choice:\n",
    "    print(\"It's a draw!\")\n",
    "elif computer_choice > user_choice:\n",
    "    print(\"You Lose!\")\n",
    "elif user_choice > computer_choice:\n",
    "    print(\"You win!\")\n"
   ]
  },
  {
   "cell_type": "code",
   "execution_count": 16,
   "id": "a48a33c8-2437-4d05-81f1-b1f42e5026ea",
   "metadata": {},
   "outputs": [
    {
     "ename": "NameError",
     "evalue": "name 'count' is not defined",
     "output_type": "error",
     "traceback": [
      "\u001b[1;31m---------------------------------------------------------------------------\u001b[0m",
      "\u001b[1;31mNameError\u001b[0m                                 Traceback (most recent call last)",
      "Cell \u001b[1;32mIn[16], line 5\u001b[0m\n\u001b[0;32m      2\u001b[0m com_guess \u001b[38;5;241m=\u001b[39m random\u001b[38;5;241m.\u001b[39mrandint(\u001b[38;5;241m0\u001b[39m,\u001b[38;5;241m99\u001b[39m)\n\u001b[0;32m      4\u001b[0m user_input\u001b[38;5;241m=\u001b[39m []\n\u001b[1;32m----> 5\u001b[0m \u001b[43mcount\u001b[49m \u001b[38;5;241m==\u001b[39m \u001b[38;5;241m0\u001b[39m\n\u001b[0;32m      6\u001b[0m user_guess \u001b[38;5;241m=\u001b[39m \u001b[38;5;28mint\u001b[39m(\u001b[38;5;28minput\u001b[39m(\u001b[38;5;124m\"\u001b[39m\u001b[38;5;124mGuess the number that the computer has choosen.....\u001b[39m\u001b[38;5;124m\"\u001b[39m))\n\u001b[0;32m      8\u001b[0m \u001b[38;5;28mprint\u001b[39m(value)\n",
      "\u001b[1;31mNameError\u001b[0m: name 'count' is not defined"
     ]
    }
   ],
   "source": [
    "import random\n",
    "com_guess = random.randint(0,99)\n",
    "\n",
    "user_input= []\n",
    "count == 0\n",
    "user_guess = int(input(\"Guess the number that the computer has choosen.....\"))\n",
    "\n",
    "print(value)\n",
    "if user_guess > com_guess:\n",
    "    print(\"The number you guessed is hign, think of someting low\")\n",
    "elif user_guess < com_guess:\n",
    "    print(\"The number you guessed is low, think of something high.\")\n",
    "elif user_guess == com_guess:\n",
    "    print(\"That's correct, you guessed the number!!!!\")\n",
    "value = user_input.append(user_guess)\n",
    "count += 0\n",
    "if count == 7:\n",
    "    print(\"You are our of your turns, you lose!\")\n",
    "    print(f\"The number was{com_guess}\")\n",
    "#print(guess)"
   ]
  },
  {
   "cell_type": "code",
   "execution_count": null,
   "id": "20f6ecd7-cf96-4171-a2c2-e61bf23e0c70",
   "metadata": {},
   "outputs": [],
   "source": []
  }
 ],
 "metadata": {
  "kernelspec": {
   "display_name": "Python 3 (ipykernel)",
   "language": "python",
   "name": "python3"
  },
  "language_info": {
   "codemirror_mode": {
    "name": "ipython",
    "version": 3
   },
   "file_extension": ".py",
   "mimetype": "text/x-python",
   "name": "python",
   "nbconvert_exporter": "python",
   "pygments_lexer": "ipython3",
   "version": "3.13.1"
  }
 },
 "nbformat": 4,
 "nbformat_minor": 5
}
