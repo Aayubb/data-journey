{
 "cells": [
  {
   "cell_type": "code",
   "execution_count": 1,
   "id": "20f7296c-ec2d-4cf7-9129-90ea50fe6817",
   "metadata": {},
   "outputs": [
    {
     "name": "stdout",
     "output_type": "stream",
     "text": [
      "Welcome to the PyPassword Generator!\n"
     ]
    },
    {
     "name": "stdin",
     "output_type": "stream",
     "text": [
      "How many letters would you like in your password?\n",
      " 2\n",
      "How many symbols would you like?\n",
      " 2\n",
      "How many numbers would you like?\n",
      " 2\n"
     ]
    },
    {
     "name": "stdout",
     "output_type": "stream",
     "text": [
      "ju+%45\n"
     ]
    }
   ],
   "source": [
    "### Password Generator Project (easy level)\n",
    "import random\n",
    "letters = ['a', 'b', 'c', 'd', 'e', 'f', 'g', 'h', 'i', 'j', 'k', 'l', 'm', 'n', 'o', 'p', 'q', 'r', 's', 't', 'u', 'v', 'w', 'x', 'y', 'z', 'A', 'B', 'C', 'D', 'E', 'F', 'G', 'H', 'I', 'J', 'K', 'L', 'M', 'N', 'O', 'P', 'Q', 'R', 'S', 'T', 'U', 'V', 'W', 'X', 'Y', 'Z']\n",
    "numbers = ['0', '1', '2', '3', '4', '5', '6', '7', '8', '9']\n",
    "symbols = ['!', '#', '$', '%', '&', '(', ')', '*', '+']\n",
    "\n",
    "print(\"Welcome to the PyPassword Generator!\")\n",
    "nr_letters= int(input(\"How many letters would you like in your password?\\n\")) \n",
    "nr_symbols = int(input(f\"How many symbols would you like?\\n\"))\n",
    "nr_numbers = int(input(f\"How many numbers would you like?\\n\"))\n",
    "\n",
    "password = \"\"\n",
    "\n",
    "for char in range(0, nr_letters):\n",
    "    password += random.choice(letters)\n",
    "\n",
    "for char in range(0, nr_symbols):\n",
    "    password += random.choice(symbols)\n",
    "\n",
    "for char in range (0, nr_numbers):\n",
    "    password += random.choice(numbers)\n",
    "\n",
    "print(password)"
   ]
  },
  {
   "cell_type": "code",
   "execution_count": 4,
   "id": "ae44da6c-469c-4ea7-a28a-6608a4ba86d2",
   "metadata": {},
   "outputs": [
    {
     "name": "stdout",
     "output_type": "stream",
     "text": [
      "Welcome to the PyPassword Generator!\n"
     ]
    },
    {
     "name": "stdin",
     "output_type": "stream",
     "text": [
      "How many letters would you like in your password?\n",
      " 4\n",
      "How many symbols would you like?\n",
      " 3\n",
      "How many numbers would you like?\n",
      " 2\n"
     ]
    },
    {
     "name": "stdout",
     "output_type": "stream",
     "text": [
      "['4', 'B', 'r', '$', 'u', 'R', ')', '6', '&']\n"
     ]
    }
   ],
   "source": [
    "#Hard level\n",
    "\n",
    "import random\n",
    "letters = ['a', 'b', 'c', 'd', 'e', 'f', 'g', 'h', 'i', 'j', 'k', 'l', 'm', 'n', 'o', 'p', 'q', 'r', 's', 't', 'u', 'v', 'w', 'x', 'y', 'z', 'A', 'B', 'C', 'D', 'E', 'F', 'G', 'H', 'I', 'J', 'K', 'L', 'M', 'N', 'O', 'P', 'Q', 'R', 'S', 'T', 'U', 'V', 'W', 'X', 'Y', 'Z']\n",
    "numbers = ['0', '1', '2', '3', '4', '5', '6', '7', '8', '9']\n",
    "symbols = ['!', '#', '$', '%', '&', '(', ')', '*', '+']\n",
    "\n",
    "print(\"Welcome to the PyPassword Generator!\")\n",
    "nr_letters= int(input(\"How many letters would you like in your password?\\n\")) \n",
    "nr_symbols = int(input(f\"How many symbols would you like?\\n\"))\n",
    "nr_numbers = int(input(f\"How many numbers would you like?\\n\"))\n",
    "\n",
    "\n",
    "password_list = []\n",
    "\n",
    "for char in range(0, nr_letters):\n",
    "    password_list.append(random.choice(letters))\n",
    "\n",
    "for char in range(0, nr_symbols):\n",
    "    password_list.append(random.choice(symbols))\n",
    "\n",
    "for char in range (0, nr_numbers):\n",
    "    password_list.append(random.choice(numbers))\n",
    "\n",
    "random.shuffle(password_list)\n",
    "print(password_list)\n",
    "\n",
    "for char in passwo"
   ]
  },
  {
   "cell_type": "code",
   "execution_count": null,
   "id": "001f619f-fff2-4013-b0f7-12a20508e1ba",
   "metadata": {},
   "outputs": [],
   "source": []
  }
 ],
 "metadata": {
  "kernelspec": {
   "display_name": "Python 3 (ipykernel)",
   "language": "python",
   "name": "python3"
  },
  "language_info": {
   "codemirror_mode": {
    "name": "ipython",
    "version": 3
   },
   "file_extension": ".py",
   "mimetype": "text/x-python",
   "name": "python",
   "nbconvert_exporter": "python",
   "pygments_lexer": "ipython3",
   "version": "3.13.1"
  }
 },
 "nbformat": 4,
 "nbformat_minor": 5
}
