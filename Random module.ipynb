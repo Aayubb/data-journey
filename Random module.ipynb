{
 "cells": [
  {
   "cell_type": "code",
   "execution_count": 3,
   "id": "f5742130-e162-4a22-9d0a-97b43869fe03",
   "metadata": {},
   "outputs": [
    {
     "name": "stdout",
     "output_type": "stream",
     "text": [
      "Tails\n"
     ]
    }
   ],
   "source": [
    "import random\n",
    "flip = random.randint (0, 1)\n",
    "if random.randint == 0:\n",
    "    print(\"Heads\")\n",
    "else:\n",
    "    print(\"Tails\")"
   ]
  },
  {
   "cell_type": "code",
   "execution_count": 16,
   "id": "49576fb6-a09b-4296-b7c0-a69b0081f7b1",
   "metadata": {},
   "outputs": [
    {
     "name": "stdout",
     "output_type": "stream",
     "text": [
      "baldyuwal\n",
      "milap\n"
     ]
    }
   ],
   "source": [
    "#who will pay the bill?\n",
    "import random \n",
    "people = ['milap', 'nawang', 'baldyuwal', 'panas']\n",
    "\n",
    "#option 1\n",
    "print(random.choice(people))\n",
    "\n",
    "#optoin 2\n",
    "index = random.randint(0,4)\n",
    "print(people[index])"
   ]
  },
  {
   "cell_type": "code",
   "execution_count": null,
   "id": "0e1b71d4-5475-44eb-a045-866563602650",
   "metadata": {},
   "outputs": [],
   "source": []
  },
  {
   "cell_type": "code",
   "execution_count": null,
   "id": "2bb3694a-693e-4be1-b8ae-e6a42f6af48d",
   "metadata": {},
   "outputs": [],
   "source": []
  },
  {
   "cell_type": "code",
   "execution_count": null,
   "id": "6e363655-26df-4a3e-9248-f70699fb5ed4",
   "metadata": {},
   "outputs": [],
   "source": []
  }
 ],
 "metadata": {
  "kernelspec": {
   "display_name": "Python 3 (ipykernel)",
   "language": "python",
   "name": "python3"
  },
  "language_info": {
   "codemirror_mode": {
    "name": "ipython",
    "version": 3
   },
   "file_extension": ".py",
   "mimetype": "text/x-python",
   "name": "python",
   "nbconvert_exporter": "python",
   "pygments_lexer": "ipython3",
   "version": "3.13.1"
  }
 },
 "nbformat": 4,
 "nbformat_minor": 5
}
