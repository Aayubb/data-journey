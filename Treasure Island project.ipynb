{
 "cells": [
  {
   "cell_type": "code",
   "execution_count": 7,
   "id": "f9855dc7-1571-4bc9-9560-bb52c203905d",
   "metadata": {},
   "outputs": [
    {
     "name": "stderr",
     "output_type": "stream",
     "text": [
      "<>:1: SyntaxWarning: invalid escape sequence '\\`'\n",
      "<>:1: SyntaxWarning: invalid escape sequence '\\`'\n",
      "C:\\Users\\Lenivo\\AppData\\Local\\Temp\\ipykernel_4712\\728650955.py:1: SyntaxWarning: invalid escape sequence '\\`'\n",
      "  print('''\n"
     ]
    },
    {
     "name": "stdout",
     "output_type": "stream",
     "text": [
      "\n",
      "*******************************************************************************\n",
      "          |                   |                  |                     |\n",
      " _________|________________.=\"\"_;=.______________|_____________________|_______\n",
      "|                   |  ,-\"_,=\"\"     `\"=.|                  |\n",
      "|___________________|__\"=._o`\"-._        `\"=.______________|___________________\n",
      "          |                `\"=._o`\"=._      _`\"=._                     |\n",
      " _________|_____________________:=._o \"=._.\"_.-=\"'\"=.__________________|_______\n",
      "|                   |    __.--\" , ; `\"=._o.\" ,-\"\"\"-._ \".   |\n",
      "|___________________|_._\"  ,. .` ` `` ,  `\"-._\"-._   \". '__|___________________\n",
      "          |           |o`\"=._` , \"` `; .\". ,  \"-._\"-._; ;              |\n",
      " _________|___________| ;`-.o`\"=._; .\" ` '`.\"\\` . \"-._ /_______________|_______\n",
      "|                   | |o;    `\"-.o`\"=._``  '` \" ,__.--o;   |\n",
      "|___________________|_| ;     (#) `-.o `\"=.`_.--\"_o.-; ;___|___________________\n",
      "____/______/______/___|o;._    \"      `\".o|o_.--\"    ;o;____/______/______/____\n",
      "/______/______/______/_\"=._o--._        ; | ;        ; ;/______/______/______/_\n",
      "____/______/______/______/__\"=._o--._   ;o|o;     _._;o;____/______/______/____\n",
      "/______/______/______/______/____\"=._o._; | ;_.--\"o.--\"_/______/______/______/_\n",
      "____/______/______/______/______/_____\"=.o|o_.--\"\"___/______/______/______/____\n",
      "/______/______/______/______/______/______/______/______/______/______/[TomekK]\n",
      "*******************************************************************************\n",
      "\n",
      "Welcome to the treasure island game!\n",
      "Your mission is to find the treasure.\n"
     ]
    },
    {
     "name": "stdin",
     "output_type": "stream",
     "text": [
      "Would you like to go left of right? left\n"
     ]
    },
    {
     "name": "stdout",
     "output_type": "stream",
     "text": [
      "You've now arrived in a lake with an island at the middle, and there is a tower at the island and a boat.\n"
     ]
    },
    {
     "name": "stdin",
     "output_type": "stream",
     "text": [
      "What whould you like to do? Swim or go on a boat? go on a boat\n"
     ]
    },
    {
     "name": "stdout",
     "output_type": "stream",
     "text": [
      "There were piranas in the lake, You died... Game Over!!\n"
     ]
    }
   ],
   "source": [
    "###print('''\n",
    "*******************************************************************************\n",
    "          |                   |                  |                     |\n",
    " _________|________________.=\"\"_;=.______________|_____________________|_______\n",
    "|                   |  ,-\"_,=\"\"     `\"=.|                  |\n",
    "|___________________|__\"=._o`\"-._        `\"=.______________|___________________\n",
    "          |                `\"=._o`\"=._      _`\"=._                     |\n",
    " _________|_____________________:=._o \"=._.\"_.-=\"'\"=.__________________|_______\n",
    "|                   |    __.--\" , ; `\"=._o.\" ,-\"\"\"-._ \".   |\n",
    "|___________________|_._\"  ,. .` ` `` ,  `\"-._\"-._   \". '__|___________________\n",
    "          |           |o`\"=._` , \"` `; .\". ,  \"-._\"-._; ;              |\n",
    " _________|___________| ;`-.o`\"=._; .\" ` '`.\"\\` . \"-._ /_______________|_______\n",
    "|                   | |o;    `\"-.o`\"=._``  '` \" ,__.--o;   |\n",
    "|___________________|_| ;     (#) `-.o `\"=.`_.--\"_o.-; ;___|___________________\n",
    "____/______/______/___|o;._    \"      `\".o|o_.--\"    ;o;____/______/______/____\n",
    "/______/______/______/_\"=._o--._        ; | ;        ; ;/______/______/______/_\n",
    "____/______/______/______/__\"=._o--._   ;o|o;     _._;o;____/______/______/____\n",
    "/______/______/______/______/____\"=._o._; | ;_.--\"o.--\"_/______/______/______/_\n",
    "____/______/______/______/______/_____\"=.o|o_.--\"\"___/______/______/______/____\n",
    "/______/______/______/______/______/______/______/______/______/______/[TomekK]\n",
    "*******************************************************************************\n",
    "''')\n",
    "\n",
    "print(\"Welcome to the treasure island game!\")\n",
    "print(\"Your mission is to find the treasure.\")\n",
    "\n",
    "direction = input(\"Would you like to go left of right?\")\n",
    "if direction == \"left\" or \"Left\":\n",
    "    print(\"You've now arrived in a lake with an island at the middle, and there is a tower at the island and a boat.\")\n",
    "    action = input(\"What whould you like to do? Swim or go on a boat?\")\n",
    "    if action == \"swim\" or \"Swim\":\n",
    "        print(\"There were piranas in the lake, You died... Game Over!!\")\n",
    "    elif action == \"go on a boat\" or \"Go on a boat\":\n",
    "        print(\"Nice, now you are at the island and you went inside the tower, there are three doors: red, yellow and blue, inside on of them there is the treasure.\")\n",
    "        door =input(\"Which door do you want to go to?\")\n",
    "        if door == \"red\" or \"Red\":\n",
    "             print(\"Oh noo! You went inside a room of fire... You died. Try again!!\")\n",
    "        elif door == \"blue\" or \"BLue\":\n",
    "             print(\"Oh no! You entered a room full of ice... You froze. Try again!!\")\n",
    "        else:\n",
    "             print(\"Congratulations, You got the treasure :).... Thanks for playing the game.\")\n",
    "elif direction == \"right\" or  \"Right\":\n",
    "    print(\"You fell in a trap...Game over!!! TRY AGAIN..\")\n",
    "else:\n",
    "    print(\"Please choose left or right.\")\n",
    "\n",
    "\n",
    "\n"
   ]
  },
  {
   "cell_type": "code",
   "execution_count": 4,
   "id": "7b24b468-80f0-4fad-b571-2347d4a80cfc",
   "metadata": {},
   "outputs": [
    {
     "name": "stdout",
     "output_type": "stream",
     "text": [
      "Welcome to treasure hunt!\n",
      "Your mission is the find the treasure.\n"
     ]
    },
    {
     "name": "stdin",
     "output_type": "stream",
     "text": [
      "There are two paths, left and right, where would you like to go? Left of Right? left\n"
     ]
    },
    {
     "name": "stdout",
     "output_type": "stream",
     "text": [
      "You arrived at a lake with an island at the middle, there is a tower at the island.\n",
      "There is also a boat.\n"
     ]
    },
    {
     "name": "stdin",
     "output_type": "stream",
     "text": [
      "What would you like to do? Choose one Swimming or Boating? boating\n"
     ]
    },
    {
     "name": "stdout",
     "output_type": "stream",
     "text": [
      "There were piranas in the lake... You died!!\n",
      "You arived at the island, you entered the tower...\n",
      "There are 3 doors: red, yellow and blue, Inside one lies the treasure you are looking for.\n"
     ]
    },
    {
     "name": "stdin",
     "output_type": "stream",
     "text": [
      "Choose one door. yellow\n"
     ]
    },
    {
     "name": "stdout",
     "output_type": "stream",
     "text": [
      "Oh no! You entered the room of fire, You die! Game Over.\n",
      "Oh no! You entered the room of ice, You died! Game Over.\n",
      "Congratulations! you found the treasure!! Thank you for plating the game.\n"
     ]
    }
   ],
   "source": [
    "print(\"Welcome to treasure hunt!\")\n",
    "print(\"Your mission is the find the treasure.\")\n",
    "\n",
    "direction = input(\"There are two paths, left and right, where would you like to go? Left of Right?\").lower()\n",
    "if direction == \"left\" or \"Left\":\n",
    "    print(\"You arrived at a lake with an island at the middle, there is a tower at the island.\")\n",
    "    print(\"There is also a boat.\")\n",
    "    action = input(\"What would you like to do? Choose one Swimming or Boating?\").lower()\n",
    "    if action == \"swimming\" or \"Swimming\":\n",
    "            print(\"There were piranas in the lake... You died!!\")\n",
    "    if action == \"boating\" or \"Boating\":\n",
    "        print(\"You arived at the island, you entered the tower...\")\n",
    "        print(\"There are 3 doors: red, yellow and blue, Inside one lies the treasure you are looking for.\")\n",
    "        door =input(\"Choose one door.\").lower()\n",
    "        if door ==\"red\" or\"Red\":\n",
    "                 print(\"Oh no! You entered the room of fire, You die! Game Over.\")\n",
    "        if door == \"blue\" or \"Blue\":\n",
    "                print(\"Oh no! You entered the room of ice, You died! Game Over.\")\n",
    "        if door == \"yellow\" or \"Yelow\":\n",
    "                print(\"Congratulations! you found the treasure!! Thank you for plating the game.\")\n",
    "        else: \n",
    "            print(\"Choose the right option.\")\n",
    "else:\n",
    "    print(\"You fell into a hole full of snakes, You died! Try again!\")"
   ]
  },
  {
   "cell_type": "code",
   "execution_count": null,
   "id": "0e2de74a-f635-4242-9fe1-76fe6b7cc9a0",
   "metadata": {},
   "outputs": [],
   "source": []
  },
  {
   "cell_type": "code",
   "execution_count": null,
   "id": "966cac46-e699-4573-ac2d-8f7f11219467",
   "metadata": {},
   "outputs": [],
   "source": []
  }
 ],
 "metadata": {
  "kernelspec": {
   "display_name": "Python 3 (ipykernel)",
   "language": "python",
   "name": "python3"
  },
  "language_info": {
   "codemirror_mode": {
    "name": "ipython",
    "version": 3
   },
   "file_extension": ".py",
   "mimetype": "text/x-python",
   "name": "python",
   "nbconvert_exporter": "python",
   "pygments_lexer": "ipython3",
   "version": "3.13.1"
  }
 },
 "nbformat": 4,
 "nbformat_minor": 5
}
