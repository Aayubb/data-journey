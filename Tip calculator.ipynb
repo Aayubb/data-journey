{
 "cells": [
  {
   "cell_type": "code",
   "execution_count": 12,
   "id": "1caa907b-e3a2-41b0-b00e-f2104e400c06",
   "metadata": {},
   "outputs": [
    {
     "name": "stdout",
     "output_type": "stream",
     "text": [
      "Welcome to tip calculator\n"
     ]
    },
    {
     "name": "stdout",
     "output_type": "stream",
     "text": [
      "What was the bill? 150\n",
      "How much tip would you like to give? 10, 12, 15%? 12\n",
      "How many people are going to split the bill? 5\n"
     ]
    },
    {
     "name": "stdout",
     "output_type": "stream",
     "text": [
      "You all need to give 3.6 each. \n"
     ]
    }
   ],
   "source": [
    "#mistake\n",
    "print(\"Welcome to tip calculator\")\n",
    "bill = int(input(\"What was the bill?\"))\n",
    "per = int(input(\"How much tip would you like to give? 10, 12, 15%?\"))\n",
    "people = int(input (\"How many people are going to split the bill?\"))\n",
    "percentage = per/100\n",
    "tip = round((bill * percentage)/people, 4)\n",
    "print(f\"You all need to give {tip} each. \")"
   ]
  },
  {
   "cell_type": "code",
   "execution_count": 17,
   "id": "d69c5aa3-c64f-4768-9a95-26e39701601b",
   "metadata": {},
   "outputs": [
    {
     "name": "stdout",
     "output_type": "stream",
     "text": [
      "Welcome to the tip calculator.\n"
     ]
    },
    {
     "name": "stdout",
     "output_type": "stream",
     "text": [
      "What was the bill amount? 150\n",
      "How much would you like to tip? 10, 12, 15? 12\n",
      "How many people are going to split the bill? 5\n"
     ]
    },
    {
     "name": "stdout",
     "output_type": "stream",
     "text": [
      "Everyone whould give Rs.33.6 each.\n"
     ]
    }
   ],
   "source": [
    "#correction\n",
    "\n",
    "print(\"Welcome to the tip calculator.\")\n",
    "bill = float(input(\"What was the bill amount?\"))\n",
    "per = int(input(\"How much would you like to tip? 10, 12, 15?\"))\n",
    "people = int(input(\"How many people are going to split the bill?\"))\n",
    "percentage = per/100\n",
    "bill_with_tip = percentage * bill\n",
    "total_bill = bill_with_tip + bill\n",
    "final = round(total_bill/ people, 2)\n",
    "print(f\"Everyone whould give Rs.{final} each.\")"
   ]
  },
  {
   "cell_type": "code",
   "execution_count": null,
   "id": "ab4d7561-4470-491a-9303-cef08bec060e",
   "metadata": {},
   "outputs": [],
   "source": []
  }
 ],
 "metadata": {
  "kernelspec": {
   "display_name": "Python 3 (ipykernel)",
   "language": "python",
   "name": "python3"
  },
  "language_info": {
   "codemirror_mode": {
    "name": "ipython",
    "version": 3
   },
   "file_extension": ".py",
   "mimetype": "text/x-python",
   "name": "python",
   "nbconvert_exporter": "python",
   "pygments_lexer": "ipython3",
   "version": "3.13.1"
  }
 },
 "nbformat": 4,
 "nbformat_minor": 5
}
